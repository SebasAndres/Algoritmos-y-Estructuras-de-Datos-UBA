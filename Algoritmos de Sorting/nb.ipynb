{
 "cells": [
  {
   "cell_type": "markdown",
   "metadata": {},
   "source": [
    "# Ejemplo\n",
    "\n",
    "Supongamos tenemos que recomendar programas de canales en vivo.\n",
    "Tenemos un listado de los programas de cada canal con su tiempo de inicio y respectivo scoring del programa.\n",
    "\n",
    "Nos interesa recomendar el proximo programa.\n",
    "\n",
    "Para esto, devolvemos todos los programas ordenados por tiempo (clave primaria) y scoring (clave secundaria).\n",
    "Entonces, ordenamos primero por scoring y luego, usando algun algoritmo estable, por tiempo."
   ]
  },
  {
   "cell_type": "code",
   "execution_count": 8,
   "metadata": {},
   "outputs": [
    {
     "data": {
      "text/plain": [
       "[(0, 100), (0, 80), (0, 10), (0.5, 40), (1, 60), (1, 6)]"
      ]
     },
     "execution_count": 8,
     "metadata": {},
     "output_type": "execute_result"
    }
   ],
   "source": [
    "# MergeSort es estable\n",
    "from algorithms.mergesort import mergesort\n",
    "\n",
    "#      [(time, score), ...]\n",
    "data = [(0, 100), (0, 10), (0,80), (1,6), (1,60), (0.5, 40)]\n",
    "\n",
    "sortedByScore = mergesort(data, f=lambda x: x[1])\n",
    "sortedByTimeAndScore = mergesort(sortedByScore, f=lambda x: x[0])\n",
    "sortedByTimeAndScore"
   ]
  }
 ],
 "metadata": {
  "kernelspec": {
   "display_name": "Python 3",
   "language": "python",
   "name": "python3"
  },
  "language_info": {
   "codemirror_mode": {
    "name": "ipython",
    "version": 3
   },
   "file_extension": ".py",
   "mimetype": "text/x-python",
   "name": "python",
   "nbconvert_exporter": "python",
   "pygments_lexer": "ipython3",
   "version": "3.10.11"
  }
 },
 "nbformat": 4,
 "nbformat_minor": 2
}
